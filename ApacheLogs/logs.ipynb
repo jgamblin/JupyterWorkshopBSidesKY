{
 "cells": [
  {
   "cell_type": "markdown",
   "metadata": {},
   "source": [
    "# Apache Logs "
   ]
  },
  {
   "cell_type": "markdown",
   "metadata": {},
   "source": [
    "### Grab Logs"
   ]
  },
  {
   "cell_type": "code",
   "execution_count": 1,
   "metadata": {},
   "outputs": [],
   "source": [
    "# Grab Public Apache access log\n",
    "# ! wget http://www.almhuette-raith.at/apache-log/access.log"
   ]
  },
  {
   "cell_type": "markdown",
   "metadata": {},
   "source": [
    "### Import Libraries"
   ]
  },
  {
   "cell_type": "code",
   "execution_count": 2,
   "metadata": {},
   "outputs": [],
   "source": [
    "import pandas as pd\n",
    "import matplotlib.pyplot as plt\n",
    "\n"
   ]
  },
  {
   "cell_type": "markdown",
   "metadata": {},
   "source": [
    "### Parse Logs"
   ]
  },
  {
   "cell_type": "code",
   "execution_count": 3,
   "metadata": {},
   "outputs": [],
   "source": [
    "df = pd.read_csv('access.log',\n",
    "              sep=r'\\s(?=(?:[^\"]*\"[^\"]*\")*[^\"]*$)(?![^\\[]*\\])',\n",
    "              engine='python',\n",
    "              usecols=[0, 3, 4, 5, 6, 7, 8],\n",
    "              names=['ip', 'time', 'request', 'status', 'size', 'referer', 'user_agent'],\n",
    "              na_values='-',\n",
    "              header=None\n",
    "                )\n"
   ]
  },
  {
   "cell_type": "markdown",
   "metadata": {},
   "source": [
    "### Top 5 IPs"
   ]
  },
  {
   "cell_type": "code",
   "execution_count": 4,
   "metadata": {},
   "outputs": [
    {
     "data": {
      "text/plain": [
       "47.39.156.135     4305147\n",
       "96.32.128.5       1959541\n",
       "73.169.232.206    1572800\n",
       "193.106.31.130     340874\n",
       "82.209.218.4       333838\n",
       "Name: ip, dtype: int64"
      ]
     },
     "execution_count": 4,
     "metadata": {},
     "output_type": "execute_result"
    }
   ],
   "source": [
    "df.ip.value_counts().head(5)"
   ]
  },
  {
   "cell_type": "markdown",
   "metadata": {},
   "source": [
    "### Top 5 Status Codes"
   ]
  },
  {
   "cell_type": "code",
   "execution_count": 5,
   "metadata": {},
   "outputs": [
    {
     "data": {
      "text/plain": [
       "404    6960763\n",
       "200    1650862\n",
       "206     520360\n",
       "401      63656\n",
       "500       7171\n",
       "Name: status, dtype: int64"
      ]
     },
     "execution_count": 5,
     "metadata": {},
     "output_type": "execute_result"
    }
   ],
   "source": [
    "df.status.value_counts().head(5)"
   ]
  },
  {
   "cell_type": "markdown",
   "metadata": {},
   "source": [
    "### Top 5 User Agents"
   ]
  },
  {
   "cell_type": "code",
   "execution_count": 6,
   "metadata": {},
   "outputs": [
    {
     "data": {
      "text/plain": [
       "\"DirBuster-1.0-RC1 (http://www.owasp.org/index.php/Category:OWASP_DirBuster_Project)\"    6311873\n",
       "\"Fuzz Faster U Fool v1.3.1-dev\"                                                          1563863\n",
       "\"-\"                                                                                       344471\n",
       "\"Mozilla/4.0 (compatible; MSIE 7.0; Windows NT 6.0)\"                                      340874\n",
       "\"Mozilla/5.0 (Windows NT 6.1; Trident/7.0; rv:11.0) like Gecko\"                           111002\n",
       "Name: user_agent, dtype: int64"
      ]
     },
     "execution_count": 6,
     "metadata": {},
     "output_type": "execute_result"
    }
   ],
   "source": [
    "df.user_agent.value_counts().head(5)"
   ]
  },
  {
   "cell_type": "markdown",
   "metadata": {},
   "source": [
    "### Top 5 Referers"
   ]
  },
  {
   "cell_type": "code",
   "execution_count": 7,
   "metadata": {},
   "outputs": [
    {
     "data": {
      "text/plain": [
       "\"-\"                                                                                               8835989\n",
       "\"http://www.almhuette-raith.at/apache-log/\"                                                        148180\n",
       "\"http://www.almhuette-raith.at/\"                                                                    58860\n",
       "\"http://www.almhuette-raith.at/index.php?option=com_phocagallery&view=category&id=1&Itemid=53\"      24366\n",
       "\"http://almhuette-raith.at/\"                                                                        24320\n",
       "Name: referer, dtype: int64"
      ]
     },
     "execution_count": 7,
     "metadata": {},
     "output_type": "execute_result"
    }
   ],
   "source": [
    "df.referer.value_counts().head(5)"
   ]
  },
  {
   "cell_type": "markdown",
   "metadata": {},
   "source": [
    "### Top 5 URIs"
   ]
  },
  {
   "cell_type": "code",
   "execution_count": 8,
   "metadata": {},
   "outputs": [
    {
     "data": {
      "text/plain": [
       "\"GET /apache-log/access.log HTTP/1.1\"       553841\n",
       "\"POST /administrator/index.php HTTP/1.0\"    346207\n",
       "\"GET / HTTP/1.1\"                             22466\n",
       "\"GET /administrator/index.php HTTP/1.1\"      18061\n",
       "\"POST /administrator/index.php HTTP/1.1\"     15745\n",
       "Name: request, dtype: int64"
      ]
     },
     "execution_count": 8,
     "metadata": {},
     "output_type": "execute_result"
    }
   ],
   "source": [
    "df.request.value_counts().head(5)"
   ]
  },
  {
   "cell_type": "markdown",
   "metadata": {},
   "source": [
    "### Graph Top IP Address"
   ]
  },
  {
   "cell_type": "code",
   "execution_count": 9,
   "metadata": {},
   "outputs": [
    {
     "data": {
      "image/png": "[encoded data removed]",
      "text/plain": [
       "<Figure size 432x288 with 1 Axes>"
      ]
     },
     "metadata": {
      "needs_background": "light"
     },
     "output_type": "display_data"
    }
   ],
   "source": [
    "top_ip_count = df.ip.value_counts().head(5)\n",
    "top_ip_count.plot(kind=\"barh\", colormap=\"tab20c\")\n",
    "plt.title(\"Top IP Address\")\n",
    "plt.xlabel(\"Hits\")\n",
    "plt.ylabel(\"IP\")\n",
    "plt.show()"
   ]
  },
  {
   "cell_type": "markdown",
   "metadata": {},
   "source": [
    "### Graph Top Status"
   ]
  },
  {
   "cell_type": "code",
   "execution_count": 10,
   "metadata": {},
   "outputs": [
    {
     "data": {
      "image/png": "[encoded data removed]",
      "text/plain": [
       "<Figure size 432x288 with 1 Axes>"
      ]
     },
     "metadata": {
      "needs_background": "light"
     },
     "output_type": "display_data"
    }
   ],
   "source": [
    "top_status_count = df.status.value_counts().head(5)\n",
    "top_status_count.plot(kind=\"barh\", colormap=\"tab20c\")\n",
    "plt.title(\"Top Status\")\n",
    "plt.xlabel(\"Hits\")\n",
    "plt.ylabel(\"Status\")\n",
    "plt.show()"
   ]
  }
 ],
 "metadata": {
  "interpreter": {
   "hash": "aee8b7b246df8f9039afb4144a1f6fd8d2ca17a180786b69acc140d282b71a49"
  },
  "kernelspec": {
   "display_name": "Python 3.9.7 64-bit",
   "name": "python3"
  },
  "language_info": {
   "codemirror_mode": {
    "name": "ipython",
    "version": 3
   },
   "file_extension": ".py",
   "mimetype": "text/x-python",
   "name": "python",
   "nbconvert_exporter": "python",
   "pygments_lexer": "ipython3",
   "version": "3.9.12"
  },
  "orig_nbformat": 4
 },
 "nbformat": 4,
 "nbformat_minor": 2
}
