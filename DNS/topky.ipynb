{
  "cells": [
    {
      "cell_type": "markdown",
      "metadata": {},
      "source": [
        "# Top .ky Domains Mapped"
      ]
    },
    {
      "cell_type": "markdown",
      "metadata": {},
      "source": [
        " ## Install Needed Libraries and  Grab Data "
      ]
    },
    {
      "cell_type": "markdown",
      "metadata": {},
      "source": [
        "We are going to install an NSLookup and GeoIP Python Library and grab a MaxMind lookup database. "
      ]
    },
    {
      "cell_type": "code",
      "execution_count": 1,
      "metadata": {},
      "outputs": [
        {
          "name": "stdout",
          "output_type": "stream",
          "text": [
            "  % Total    % Received % Xferd  Average Speed   Time    Time     Time  Current\n",
            "                                 Dload  Upload   Total   Spent    Left  Speed\n",
            "  0     0    0     0    0     0      0      0 --:--:-- --:--:-- --:--:--     0\n",
            "  0     0    0     0    0     0      0      0 --:--:-- --:--:-- --:--:--     0\n",
            "  0     0    0     0    0     0      0      0 --:--:-- --:--:-- --:--:--     0\n",
            "100 67.0M  100 67.0M    0     0  63.0M      0  0:00:01  0:00:01 --:--:--  104M\n",
            "\u001b[33mDEPRECATION: Configuring installation scheme with distutils config files is deprecated and will no longer work in the near future. If you are using a Homebrew or Linuxbrew Python, please see discussion at https://github.com/Homebrew/homebrew-core/issues/76621\u001b[0m\u001b[33m\n",
            "\u001b[0mRequirement already satisfied: geoip2 in /usr/local/lib/python3.9/site-packages (4.4.0)\n",
            "Requirement already satisfied: urllib3<2.0.0,>=1.25.2 in /usr/local/lib/python3.9/site-packages (from geoip2) (1.26.7)\n",
            "Requirement already satisfied: aiohttp<4.0.0,>=3.6.2 in /usr/local/lib/python3.9/site-packages (from geoip2) (3.8.0)\n",
            "Requirement already satisfied: maxminddb<3.0.0,>=2.2.0 in /usr/local/lib/python3.9/site-packages (from geoip2) (2.2.0)\n",
            "Requirement already satisfied: requests<3.0.0,>=2.24.0 in /usr/local/lib/python3.9/site-packages (from geoip2) (2.26.0)\n",
            "Requirement already satisfied: attrs>=17.3.0 in /usr/local/lib/python3.9/site-packages (from aiohttp<4.0.0,>=3.6.2->geoip2) (21.2.0)\n",
            "Requirement already satisfied: multidict<7.0,>=4.5 in /usr/local/lib/python3.9/site-packages (from aiohttp<4.0.0,>=3.6.2->geoip2) (5.2.0)\n",
            "Requirement already satisfied: aiosignal>=1.1.2 in /usr/local/lib/python3.9/site-packages (from aiohttp<4.0.0,>=3.6.2->geoip2) (1.2.0)\n",
            "Requirement already satisfied: frozenlist>=1.1.1 in /usr/local/lib/python3.9/site-packages (from aiohttp<4.0.0,>=3.6.2->geoip2) (1.2.0)\n",
            "Requirement already satisfied: charset-normalizer<3.0,>=2.0 in /usr/local/lib/python3.9/site-packages (from aiohttp<4.0.0,>=3.6.2->geoip2) (2.0.7)\n",
            "Requirement already satisfied: async-timeout<5.0,>=4.0.0a3 in /usr/local/lib/python3.9/site-packages (from aiohttp<4.0.0,>=3.6.2->geoip2) (4.0.0)\n",
            "Requirement already satisfied: yarl<2.0,>=1.0 in /usr/local/lib/python3.9/site-packages (from aiohttp<4.0.0,>=3.6.2->geoip2) (1.7.2)\n",
            "Requirement already satisfied: idna<4,>=2.5 in /usr/local/lib/python3.9/site-packages (from requests<3.0.0,>=2.24.0->geoip2) (3.3)\n",
            "Requirement already satisfied: certifi>=2017.4.17 in /usr/local/lib/python3.9/site-packages (from requests<3.0.0,>=2.24.0->geoip2) (2021.10.8)\n",
            "Requirement already satisfied: typing-extensions>=3.6.5 in /usr/local/lib/python3.9/site-packages (from async-timeout<5.0,>=4.0.0a3->aiohttp<4.0.0,>=3.6.2->geoip2) (3.10.0.2)\n",
            "\u001b[33mDEPRECATION: Configuring installation scheme with distutils config files is deprecated and will no longer work in the near future. If you are using a Homebrew or Linuxbrew Python, please see discussion at https://github.com/Homebrew/homebrew-core/issues/76621\u001b[0m\u001b[33m\n",
            "\u001b[0m\u001b[33mWARNING: You are using pip version 22.0.4; however, version 22.1 is available.\n",
            "You should consider upgrading via the '/usr/local/opt/python@3.9/bin/python3.9 -m pip install --upgrade pip' command.\u001b[0m\u001b[33m\n",
            "\u001b[0m\u001b[33mDEPRECATION: Configuring installation scheme with distutils config files is deprecated and will no longer work in the near future. If you are using a Homebrew or Linuxbrew Python, please see discussion at https://github.com/Homebrew/homebrew-core/issues/76621\u001b[0m\u001b[33m\n",
            "\u001b[0mRequirement already satisfied: nslookup in /usr/local/lib/python3.9/site-packages (1.4.0)\n",
            "Requirement already satisfied: dnspython in /usr/local/lib/python3.9/site-packages (from nslookup) (2.1.0)\n",
            "\u001b[33mDEPRECATION: Configuring installation scheme with distutils config files is deprecated and will no longer work in the near future. If you are using a Homebrew or Linuxbrew Python, please see discussion at https://github.com/Homebrew/homebrew-core/issues/76621\u001b[0m\u001b[33m\n",
            "\u001b[0m\u001b[33mWARNING: You are using pip version 22.0.4; however, version 22.1 is available.\n",
            "You should consider upgrading via the '/usr/local/opt/python@3.9/bin/python3.9 -m pip install --upgrade pip' command.\u001b[0m\u001b[33m\n",
            "\u001b[0m"
          ]
        }
      ],
      "source": [
        "! curl -L https://git.io/GeoLite2-City.mmdb -o GeoLite2-City.mmdb \n",
        "! pip3 install geoip2\n",
        "! pip3 install nslookup"
      ]
    },
    {
      "cell_type": "markdown",
      "metadata": {},
      "source": [
        "## Code"
      ]
    },
    {
      "cell_type": "markdown",
      "metadata": {},
      "source": [
        "### Import Neeeded Libraries & Configurations "
      ]
    },
    {
      "cell_type": "code",
      "execution_count": 2,
      "metadata": {
        "id": "uIUqqApZWifM"
      },
      "outputs": [],
      "source": [
        "import folium\n",
        "from folium.plugins import MarkerCluster\n",
        "import geoip2.database\n",
        "import io\n",
        "from nslookup import Nslookup\n",
        "import os\n",
        "import pandas as pd\n",
        "import requests\n",
        "import sys\n",
        "import warnings\n",
        "import zipfile\n",
        "\n",
        "f = open(os.devnull, 'w')\n",
        "sys.stderr = f\n",
        "dns_query = Nslookup(dns_servers=[\"8.8.8.8\"])"
      ]
    },
    {
      "cell_type": "markdown",
      "metadata": {},
      "source": [
        "### Grab Latest DNS File"
      ]
    },
    {
      "cell_type": "code",
      "execution_count": 3,
      "metadata": {
        "id": "Cjq3Il8oWifN"
      },
      "outputs": [],
      "source": [
        "r = requests.get(\"http://s3-us-west-1.amazonaws.com/umbrella-static/top-1m.csv.zip\")\n",
        "z = zipfile.ZipFile(io.BytesIO(r.content))\n",
        "z.extractall()"
      ]
    },
    {
      "cell_type": "markdown",
      "metadata": {},
      "source": [
        "### Read The CSV into a dataframe"
      ]
    },
    {
      "cell_type": "code",
      "execution_count": 4,
      "metadata": {
        "id": "PWg0ZehmWifO"
      },
      "outputs": [],
      "source": [
        "df = pd.read_csv ('top-1m.csv', names=['Rank', 'DNS'], header=None)\n",
        "df['DNS'] = df['DNS'].astype('str')"
      ]
    },
    {
      "cell_type": "markdown",
      "metadata": {},
      "source": [
        "### Remove Rows That Are Not .KY"
      ]
    },
    {
      "cell_type": "code",
      "execution_count": 12,
      "metadata": {
        "colab": {
          "base_uri": "https://localhost:8080/",
          "height": 419
        },
        "id": "3TZoqVRjWifO",
        "outputId": "4bc2772a-86ec-491e-d521-8c7505255601"
      },
      "outputs": [
        {
          "data": {
            "text/html": [
              "<div>\n",
              "<style scoped>\n",
              "    .dataframe tbody tr th:only-of-type {\n",
              "        vertical-align: middle;\n",
              "    }\n",
              "\n",
              "    .dataframe tbody tr th {\n",
              "        vertical-align: top;\n",
              "    }\n",
              "\n",
              "    .dataframe thead th {\n",
              "        text-align: right;\n",
              "    }\n",
              "</style>\n",
              "<table border=\"1\" class=\"dataframe\">\n",
              "  <thead>\n",
              "    <tr style=\"text-align: right;\">\n",
              "      <th></th>\n",
              "      <th>Rank</th>\n",
              "      <th>DNS</th>\n",
              "    </tr>\n",
              "  </thead>\n",
              "  <tbody>\n",
              "    <tr>\n",
              "      <th>396634</th>\n",
              "      <td>396635</td>\n",
              "      <td>cima.ky</td>\n",
              "    </tr>\n",
              "    <tr>\n",
              "      <th>411539</th>\n",
              "      <td>411540</td>\n",
              "      <td>gov.ky</td>\n",
              "    </tr>\n",
              "    <tr>\n",
              "      <th>501514</th>\n",
              "      <td>501515</td>\n",
              "      <td>candw.ky</td>\n",
              "    </tr>\n",
              "    <tr>\n",
              "      <th>600603</th>\n",
              "      <td>600604</td>\n",
              "      <td>autodiscover.cima.ky</td>\n",
              "    </tr>\n",
              "    <tr>\n",
              "      <th>682760</th>\n",
              "      <td>682761</td>\n",
              "      <td>www.cima.ky</td>\n",
              "    </tr>\n",
              "    <tr>\n",
              "      <th>968413</th>\n",
              "      <td>968414</td>\n",
              "      <td>campbells.com.ky</td>\n",
              "    </tr>\n",
              "    <tr>\n",
              "      <th>976381</th>\n",
              "      <td>976382</td>\n",
              "      <td>www.campbells.com.ky</td>\n",
              "    </tr>\n",
              "    <tr>\n",
              "      <th>983395</th>\n",
              "      <td>983396</td>\n",
              "      <td>ns2.candw.ky</td>\n",
              "    </tr>\n",
              "    <tr>\n",
              "      <th>994340</th>\n",
              "      <td>994341</td>\n",
              "      <td>ns.candw.ky</td>\n",
              "    </tr>\n",
              "  </tbody>\n",
              "</table>\n",
              "</div>"
            ],
            "text/plain": [
              "          Rank                   DNS\n",
              "396634  396635               cima.ky\n",
              "411539  411540                gov.ky\n",
              "501514  501515              candw.ky\n",
              "600603  600604  autodiscover.cima.ky\n",
              "682760  682761           www.cima.ky\n",
              "968413  968414      campbells.com.ky\n",
              "976381  976382  www.campbells.com.ky\n",
              "983395  983396          ns2.candw.ky\n",
              "994340  994341           ns.candw.ky"
            ]
          },
          "execution_count": 12,
          "metadata": {},
          "output_type": "execute_result"
        }
      ],
      "source": [
        "topky = df[df[\"DNS\"].str.endswith(\".ky\")]\n",
        "topky = topky.dropna().head(500)\n",
        "topky"
      ]
    },
    {
      "cell_type": "markdown",
      "metadata": {},
      "source": [
        "### Perform DNS Lookups On .co.uk Domains"
      ]
    },
    {
      "cell_type": "code",
      "execution_count": 13,
      "metadata": {
        "id": "G5cNo1Bnne_e"
      },
      "outputs": [
        {
          "data": {
            "text/html": [
              "<div>\n",
              "<style scoped>\n",
              "    .dataframe tbody tr th:only-of-type {\n",
              "        vertical-align: middle;\n",
              "    }\n",
              "\n",
              "    .dataframe tbody tr th {\n",
              "        vertical-align: top;\n",
              "    }\n",
              "\n",
              "    .dataframe thead th {\n",
              "        text-align: right;\n",
              "    }\n",
              "</style>\n",
              "<table border=\"1\" class=\"dataframe\">\n",
              "  <thead>\n",
              "    <tr style=\"text-align: right;\">\n",
              "      <th></th>\n",
              "      <th>Rank</th>\n",
              "      <th>DNS</th>\n",
              "      <th>ip_address</th>\n",
              "    </tr>\n",
              "  </thead>\n",
              "  <tbody>\n",
              "    <tr>\n",
              "      <th>396634</th>\n",
              "      <td>396635</td>\n",
              "      <td>cima.ky</td>\n",
              "      <td>3.236.13.79</td>\n",
              "    </tr>\n",
              "    <tr>\n",
              "      <th>411539</th>\n",
              "      <td>411540</td>\n",
              "      <td>gov.ky</td>\n",
              "      <td>184.25.237.161</td>\n",
              "    </tr>\n",
              "    <tr>\n",
              "      <th>501514</th>\n",
              "      <td>501515</td>\n",
              "      <td>candw.ky</td>\n",
              "      <td>209.27.52.113</td>\n",
              "    </tr>\n",
              "    <tr>\n",
              "      <th>682760</th>\n",
              "      <td>682761</td>\n",
              "      <td>www.cima.ky</td>\n",
              "      <td>3.236.13.79</td>\n",
              "    </tr>\n",
              "    <tr>\n",
              "      <th>968413</th>\n",
              "      <td>968414</td>\n",
              "      <td>campbells.com.ky</td>\n",
              "      <td>108.175.155.101</td>\n",
              "    </tr>\n",
              "    <tr>\n",
              "      <th>976381</th>\n",
              "      <td>976382</td>\n",
              "      <td>www.campbells.com.ky</td>\n",
              "      <td>108.175.155.101</td>\n",
              "    </tr>\n",
              "    <tr>\n",
              "      <th>983395</th>\n",
              "      <td>983396</td>\n",
              "      <td>ns2.candw.ky</td>\n",
              "      <td>209.27.52.56</td>\n",
              "    </tr>\n",
              "    <tr>\n",
              "      <th>994340</th>\n",
              "      <td>994341</td>\n",
              "      <td>ns.candw.ky</td>\n",
              "      <td>209.27.52.51</td>\n",
              "    </tr>\n",
              "  </tbody>\n",
              "</table>\n",
              "</div>"
            ],
            "text/plain": [
              "          Rank                   DNS       ip_address\n",
              "396634  396635               cima.ky      3.236.13.79\n",
              "411539  411540                gov.ky   184.25.237.161\n",
              "501514  501515              candw.ky    209.27.52.113\n",
              "682760  682761           www.cima.ky      3.236.13.79\n",
              "968413  968414      campbells.com.ky  108.175.155.101\n",
              "976381  976382  www.campbells.com.ky  108.175.155.101\n",
              "983395  983396          ns2.candw.ky     209.27.52.56\n",
              "994340  994341           ns.candw.ky     209.27.52.51"
            ]
          },
          "execution_count": 13,
          "metadata": {},
          "output_type": "execute_result"
        }
      ],
      "source": [
        "topky['ip_address'] = topky['DNS'].map(lambda host:dns_query.dns_lookup(host).answer)\n",
        "topky[\"ip_address\"] = topky[\"ip_address\"].str[0]\n",
        "topky = topky.dropna()\n",
        "topky"
      ]
    },
    {
      "cell_type": "markdown",
      "metadata": {},
      "source": [
        "### Preform GeoIP Lookup Of IP Addresses"
      ]
    },
    {
      "cell_type": "code",
      "execution_count": 14,
      "metadata": {
        "id": "fYytcoT2WifO"
      },
      "outputs": [
        {
          "data": {
            "text/html": [
              "<div>\n",
              "<style scoped>\n",
              "    .dataframe tbody tr th:only-of-type {\n",
              "        vertical-align: middle;\n",
              "    }\n",
              "\n",
              "    .dataframe tbody tr th {\n",
              "        vertical-align: top;\n",
              "    }\n",
              "\n",
              "    .dataframe thead th {\n",
              "        text-align: right;\n",
              "    }\n",
              "</style>\n",
              "<table border=\"1\" class=\"dataframe\">\n",
              "  <thead>\n",
              "    <tr style=\"text-align: right;\">\n",
              "      <th></th>\n",
              "      <th>Rank</th>\n",
              "      <th>DNS</th>\n",
              "      <th>ip_address</th>\n",
              "      <th>Latitude</th>\n",
              "      <th>Longitude</th>\n",
              "      <th>Country</th>\n",
              "    </tr>\n",
              "  </thead>\n",
              "  <tbody>\n",
              "    <tr>\n",
              "      <th>396634</th>\n",
              "      <td>396635</td>\n",
              "      <td>cima.ky</td>\n",
              "      <td>3.236.13.79</td>\n",
              "      <td>39.0469</td>\n",
              "      <td>-77.4903</td>\n",
              "      <td>US</td>\n",
              "    </tr>\n",
              "    <tr>\n",
              "      <th>411539</th>\n",
              "      <td>411540</td>\n",
              "      <td>gov.ky</td>\n",
              "      <td>184.25.237.161</td>\n",
              "      <td>32.7767</td>\n",
              "      <td>-96.8050</td>\n",
              "      <td>US</td>\n",
              "    </tr>\n",
              "    <tr>\n",
              "      <th>501514</th>\n",
              "      <td>501515</td>\n",
              "      <td>candw.ky</td>\n",
              "      <td>209.27.52.113</td>\n",
              "      <td>19.2773</td>\n",
              "      <td>-81.2449</td>\n",
              "      <td>KY</td>\n",
              "    </tr>\n",
              "    <tr>\n",
              "      <th>682760</th>\n",
              "      <td>682761</td>\n",
              "      <td>www.cima.ky</td>\n",
              "      <td>3.236.13.79</td>\n",
              "      <td>39.0469</td>\n",
              "      <td>-77.4903</td>\n",
              "      <td>US</td>\n",
              "    </tr>\n",
              "    <tr>\n",
              "      <th>968413</th>\n",
              "      <td>968414</td>\n",
              "      <td>campbells.com.ky</td>\n",
              "      <td>108.175.155.101</td>\n",
              "      <td>37.7510</td>\n",
              "      <td>-97.8220</td>\n",
              "      <td>US</td>\n",
              "    </tr>\n",
              "    <tr>\n",
              "      <th>976381</th>\n",
              "      <td>976382</td>\n",
              "      <td>www.campbells.com.ky</td>\n",
              "      <td>108.175.155.101</td>\n",
              "      <td>37.7510</td>\n",
              "      <td>-97.8220</td>\n",
              "      <td>US</td>\n",
              "    </tr>\n",
              "    <tr>\n",
              "      <th>983395</th>\n",
              "      <td>983396</td>\n",
              "      <td>ns2.candw.ky</td>\n",
              "      <td>209.27.52.56</td>\n",
              "      <td>19.2773</td>\n",
              "      <td>-81.2449</td>\n",
              "      <td>KY</td>\n",
              "    </tr>\n",
              "    <tr>\n",
              "      <th>994340</th>\n",
              "      <td>994341</td>\n",
              "      <td>ns.candw.ky</td>\n",
              "      <td>209.27.52.51</td>\n",
              "      <td>19.2773</td>\n",
              "      <td>-81.2449</td>\n",
              "      <td>KY</td>\n",
              "    </tr>\n",
              "  </tbody>\n",
              "</table>\n",
              "</div>"
            ],
            "text/plain": [
              "          Rank                   DNS       ip_address  Latitude  Longitude  \\\n",
              "396634  396635               cima.ky      3.236.13.79   39.0469   -77.4903   \n",
              "411539  411540                gov.ky   184.25.237.161   32.7767   -96.8050   \n",
              "501514  501515              candw.ky    209.27.52.113   19.2773   -81.2449   \n",
              "682760  682761           www.cima.ky      3.236.13.79   39.0469   -77.4903   \n",
              "968413  968414      campbells.com.ky  108.175.155.101   37.7510   -97.8220   \n",
              "976381  976382  www.campbells.com.ky  108.175.155.101   37.7510   -97.8220   \n",
              "983395  983396          ns2.candw.ky     209.27.52.56   19.2773   -81.2449   \n",
              "994340  994341           ns.candw.ky     209.27.52.51   19.2773   -81.2449   \n",
              "\n",
              "       Country  \n",
              "396634      US  \n",
              "411539      US  \n",
              "501514      KY  \n",
              "682760      US  \n",
              "968413      US  \n",
              "976381      US  \n",
              "983395      KY  \n",
              "994340      KY  "
            ]
          },
          "execution_count": 14,
          "metadata": {},
          "output_type": "execute_result"
        }
      ],
      "source": [
        "def get_latitude(ip):\n",
        "    try:\n",
        "        reader = geoip2.database.Reader('GeoLite2-City.mmdb')\n",
        "        response = reader.city(ip)\n",
        "        output = response.location.latitude\n",
        "        return output\n",
        "    except:\n",
        "        return pd.np.nan\n",
        "\n",
        "\n",
        "def get_longitude(ip):\n",
        "    try:\n",
        "        reader = geoip2.database.Reader('GeoLite2-City.mmdb')\n",
        "        response = reader.city(ip)\n",
        "        output = response.location.longitude\n",
        "        return output\n",
        "    except:\n",
        "        return pd.np.nan\n",
        "\n",
        "def get_country(ip):\n",
        "    try:\n",
        "        reader = geoip2.database.Reader('GeoLite2-City.mmdb')\n",
        "        response = reader.city(ip)\n",
        "        output = str(response.country.iso_code)\n",
        "        return output\n",
        "    except:\n",
        "        return pd.np.nan\n",
        "\n",
        "unique_ips = topky['ip_address'].unique()\n",
        "unique_ips = pd.Series(unique_ips, index = unique_ips)\n",
        "topky['Latitude'] = topky['ip_address'].map(unique_ips.apply(get_latitude))\n",
        "topky['Longitude'] = topky['ip_address'].map(unique_ips.apply(get_longitude))\n",
        "topky['Country'] = topky['ip_address'].map(unique_ips.apply(get_country))\n",
        "topky = topky.dropna()\n",
        "topky"
      ]
    },
    {
      "cell_type": "markdown",
      "metadata": {},
      "source": [
        "### Map Sites"
      ]
    },
    {
      "cell_type": "code",
      "execution_count": 25,
      "metadata": {},
      "outputs": [
        {
          "data": {
            "text/html": [
              "<div style=\"width:100%;\"><div style=\"position:relative;width:100%;height:0;padding-bottom:60%;\"><span style=\"color:#565656\">Make this Notebook Trusted to load map: File -> Trust Notebook</span><iframe src=\"about:blank\" style=\"position:absolute;width:100%;height:100%;left:0;top:0;border:none !important;\" data-html=%3C%21DOCTYPE%20html%3E%0A%3Chead%3E%20%20%20%20%0A%20%20%20%20%3Cmeta%20http-equiv%3D%22content-type%22%20content%3D%22text/html%3B%20charset%3DUTF-8%22%20/%3E%0A%20%20%20%20%0A%20%20%20%20%20%20%20%20%3Cscript%3E%0A%20%20%20%20%20%20%20%20%20%20%20%20L_NO_TOUCH%20%3D%20false%3B%0A%20%20%20%20%20%20%20%20%20%20%20%20L_DISABLE_3D%20%3D%20false%3B%0A%20%20%20%20%20%20%20%20%3C/script%3E%0A%20%20%20%20%0A%20%20%20%20%3Cstyle%3Ehtml%2C%20body%20%7Bwidth%3A%20100%25%3Bheight%3A%20100%25%3Bmargin%3A%200%3Bpadding%3A%200%3B%7D%3C/style%3E%0A%20%20%20%20%3Cstyle%3E%23map%20%7Bposition%3Aabsolute%3Btop%3A0%3Bbottom%3A0%3Bright%3A0%3Bleft%3A0%3B%7D%3C/style%3E%0A%20%20%20%20%3Cscript%20src%3D%22https%3A//cdn.jsdelivr.net/npm/leaflet%401.6.0/dist/leaflet.js%22%3E%3C/script%3E%0A%20%20%20%20%3Cscript%20src%3D%22https%3A//code.jquery.com/jquery-1.12.4.min.js%22%3E%3C/script%3E%0A%20%20%20%20%3Cscript%20src%3D%22https%3A//maxcdn.bootstrapcdn.com/bootstrap/3.2.0/js/bootstrap.min.js%22%3E%3C/script%3E%0A%20%20%20%20%3Cscript%20src%3D%22https%3A//cdnjs.cloudflare.com/ajax/libs/Leaflet.awesome-markers/2.0.2/leaflet.awesome-markers.js%22%3E%3C/script%3E%0A%20%20%20%20%3Clink%20rel%3D%22stylesheet%22%20href%3D%22https%3A//cdn.jsdelivr.net/npm/leaflet%401.6.0/dist/leaflet.css%22/%3E%0A%20%20%20%20%3Clink%20rel%3D%22stylesheet%22%20href%3D%22https%3A//maxcdn.bootstrapcdn.com/bootstrap/3.2.0/css/bootstrap.min.css%22/%3E%0A%20%20%20%20%3Clink%20rel%3D%22stylesheet%22%20href%3D%22https%3A//maxcdn.bootstrapcdn.com/bootstrap/3.2.0/css/bootstrap-theme.min.css%22/%3E%0A%20%20%20%20%3Clink%20rel%3D%22stylesheet%22%20href%3D%22https%3A//maxcdn.bootstrapcdn.com/font-awesome/4.6.3/css/font-awesome.min.css%22/%3E%0A%20%20%20%20%3Clink%20rel%3D%22stylesheet%22%20href%3D%22https%3A//cdnjs.cloudflare.com/ajax/libs/Leaflet.awesome-markers/2.0.2/leaflet.awesome-markers.css%22/%3E%0A%20%20%20%20%3Clink%20rel%3D%22stylesheet%22%20href%3D%22https%3A//cdn.jsdelivr.net/gh/python-visualization/folium/folium/templates/leaflet.awesome.rotate.min.css%22/%3E%0A%20%20%20%20%0A%20%20%20%20%20%20%20%20%20%20%20%20%3Cmeta%20name%3D%22viewport%22%20content%3D%22width%3Ddevice-width%2C%0A%20%20%20%20%20%20%20%20%20%20%20%20%20%20%20%20initial-scale%3D1.0%2C%20maximum-scale%3D1.0%2C%20user-scalable%3Dno%22%20/%3E%0A%20%20%20%20%20%20%20%20%20%20%20%20%3Cstyle%3E%0A%20%20%20%20%20%20%20%20%20%20%20%20%20%20%20%20%23map_29a9f4409ccb4f0e8c05796493ee9e5e%20%7B%0A%20%20%20%20%20%20%20%20%20%20%20%20%20%20%20%20%20%20%20%20position%3A%20relative%3B%0A%20%20%20%20%20%20%20%20%20%20%20%20%20%20%20%20%20%20%20%20width%3A%20100.0%25%3B%0A%20%20%20%20%20%20%20%20%20%20%20%20%20%20%20%20%20%20%20%20height%3A%20100.0%25%3B%0A%20%20%20%20%20%20%20%20%20%20%20%20%20%20%20%20%20%20%20%20left%3A%200.0%25%3B%0A%20%20%20%20%20%20%20%20%20%20%20%20%20%20%20%20%20%20%20%20top%3A%200.0%25%3B%0A%20%20%20%20%20%20%20%20%20%20%20%20%20%20%20%20%7D%0A%20%20%20%20%20%20%20%20%20%20%20%20%3C/style%3E%0A%20%20%20%20%20%20%20%20%0A%20%20%20%20%3Cscript%20src%3D%22https%3A//cdnjs.cloudflare.com/ajax/libs/leaflet.markercluster/1.1.0/leaflet.markercluster.js%22%3E%3C/script%3E%0A%20%20%20%20%3Clink%20rel%3D%22stylesheet%22%20href%3D%22https%3A//cdnjs.cloudflare.com/ajax/libs/leaflet.markercluster/1.1.0/MarkerCluster.css%22/%3E%0A%20%20%20%20%3Clink%20rel%3D%22stylesheet%22%20href%3D%22https%3A//cdnjs.cloudflare.com/ajax/libs/leaflet.markercluster/1.1.0/MarkerCluster.Default.css%22/%3E%0A%3C/head%3E%0A%3Cbody%3E%20%20%20%20%0A%20%20%20%20%0A%20%20%20%20%20%20%20%20%20%20%20%20%3Cdiv%20class%3D%22folium-map%22%20id%3D%22map_29a9f4409ccb4f0e8c05796493ee9e5e%22%20%3E%3C/div%3E%0A%20%20%20%20%20%20%20%20%0A%3C/body%3E%0A%3Cscript%3E%20%20%20%20%0A%20%20%20%20%0A%20%20%20%20%20%20%20%20%20%20%20%20var%20map_29a9f4409ccb4f0e8c05796493ee9e5e%20%3D%20L.map%28%0A%20%20%20%20%20%20%20%20%20%20%20%20%20%20%20%20%22map_29a9f4409ccb4f0e8c05796493ee9e5e%22%2C%0A%20%20%20%20%20%20%20%20%20%20%20%20%20%20%20%20%7B%0A%20%20%20%20%20%20%20%20%20%20%20%20%20%20%20%20%20%20%20%20center%3A%20%5B30.0%2C%20-50.0%5D%2C%0A%20%20%20%20%20%20%20%20%20%20%20%20%20%20%20%20%20%20%20%20crs%3A%20L.CRS.EPSG3857%2C%0A%20%20%20%20%20%20%20%20%20%20%20%20%20%20%20%20%20%20%20%20zoom%3A%204%2C%0A%20%20%20%20%20%20%20%20%20%20%20%20%20%20%20%20%20%20%20%20zoomControl%3A%20true%2C%0A%20%20%20%20%20%20%20%20%20%20%20%20%20%20%20%20%20%20%20%20preferCanvas%3A%20false%2C%0A%20%20%20%20%20%20%20%20%20%20%20%20%20%20%20%20%7D%0A%20%20%20%20%20%20%20%20%20%20%20%20%29%3B%0A%0A%20%20%20%20%20%20%20%20%20%20%20%20%0A%0A%20%20%20%20%20%20%20%20%0A%20%20%20%20%0A%20%20%20%20%20%20%20%20%20%20%20%20var%20tile_layer_4db68ace19c34e6a84dfbf2951cdb9ae%20%3D%20L.tileLayer%28%0A%20%20%20%20%20%20%20%20%20%20%20%20%20%20%20%20%22https%3A//cartodb-basemaps-%7Bs%7D.global.ssl.fastly.net/light_all/%7Bz%7D/%7Bx%7D/%7By%7D.png%22%2C%0A%20%20%20%20%20%20%20%20%20%20%20%20%20%20%20%20%7B%22attribution%22%3A%20%22%5Cu0026copy%3B%20%5Cu003ca%20href%3D%5C%22http%3A//www.openstreetmap.org/copyright%5C%22%5Cu003eOpenStreetMap%5Cu003c/a%5Cu003e%20contributors%20%5Cu0026copy%3B%20%5Cu003ca%20href%3D%5C%22http%3A//cartodb.com/attributions%5C%22%5Cu003eCartoDB%5Cu003c/a%5Cu003e%2C%20CartoDB%20%5Cu003ca%20href%20%3D%5C%22http%3A//cartodb.com/attributions%5C%22%5Cu003eattributions%5Cu003c/a%5Cu003e%22%2C%20%22detectRetina%22%3A%20false%2C%20%22maxNativeZoom%22%3A%2018%2C%20%22maxZoom%22%3A%2018%2C%20%22minZoom%22%3A%200%2C%20%22noWrap%22%3A%20false%2C%20%22opacity%22%3A%201%2C%20%22subdomains%22%3A%20%22abc%22%2C%20%22tms%22%3A%20false%7D%0A%20%20%20%20%20%20%20%20%20%20%20%20%29.addTo%28map_29a9f4409ccb4f0e8c05796493ee9e5e%29%3B%0A%20%20%20%20%20%20%20%20%0A%20%20%20%20%0A%20%20%20%20%20%20%20%20%20%20%20%20var%20marker_cluster_1a07f2ab22c5428ab6b0a0e5fbd93318%20%3D%20L.markerClusterGroup%28%0A%20%20%20%20%20%20%20%20%20%20%20%20%20%20%20%20%7B%7D%0A%20%20%20%20%20%20%20%20%20%20%20%20%29%3B%0A%20%20%20%20%20%20%20%20%20%20%20%20map_29a9f4409ccb4f0e8c05796493ee9e5e.addLayer%28marker_cluster_1a07f2ab22c5428ab6b0a0e5fbd93318%29%3B%0A%20%20%20%20%20%20%20%20%0A%20%20%20%20%0A%20%20%20%20%20%20%20%20%20%20%20%20var%20marker_77ba74561a044d51931913d5bb8722e1%20%3D%20L.marker%28%0A%20%20%20%20%20%20%20%20%20%20%20%20%20%20%20%20%5B39.0469%2C%20-77.4903%5D%2C%0A%20%20%20%20%20%20%20%20%20%20%20%20%20%20%20%20%7B%7D%0A%20%20%20%20%20%20%20%20%20%20%20%20%29.addTo%28marker_cluster_1a07f2ab22c5428ab6b0a0e5fbd93318%29%3B%0A%20%20%20%20%20%20%20%20%0A%20%20%20%20%0A%20%20%20%20%20%20%20%20var%20popup_c42fd1d0ea0f48d0b59e5828dd578930%20%3D%20L.popup%28%7B%22maxWidth%22%3A%20%22100%25%22%7D%29%3B%0A%0A%20%20%20%20%20%20%20%20%0A%20%20%20%20%20%20%20%20%20%20%20%20var%20html_01dabe8c2f3a44019ebde262e62ab1bc%20%3D%20%24%28%60%3Cdiv%20id%3D%22html_01dabe8c2f3a44019ebde262e62ab1bc%22%20style%3D%22width%3A%20100.0%25%3B%20height%3A%20100.0%25%3B%22%3Ecima.ky%203.236.13.79%3C/div%3E%60%29%5B0%5D%3B%0A%20%20%20%20%20%20%20%20%20%20%20%20popup_c42fd1d0ea0f48d0b59e5828dd578930.setContent%28html_01dabe8c2f3a44019ebde262e62ab1bc%29%3B%0A%20%20%20%20%20%20%20%20%0A%0A%20%20%20%20%20%20%20%20marker_77ba74561a044d51931913d5bb8722e1.bindPopup%28popup_c42fd1d0ea0f48d0b59e5828dd578930%29%0A%20%20%20%20%20%20%20%20%3B%0A%0A%20%20%20%20%20%20%20%20%0A%20%20%20%20%0A%20%20%20%20%0A%20%20%20%20%20%20%20%20%20%20%20%20var%20marker_f9de2a4d3aef4312b85c89b3b48dc3b9%20%3D%20L.marker%28%0A%20%20%20%20%20%20%20%20%20%20%20%20%20%20%20%20%5B32.7767%2C%20-96.805%5D%2C%0A%20%20%20%20%20%20%20%20%20%20%20%20%20%20%20%20%7B%7D%0A%20%20%20%20%20%20%20%20%20%20%20%20%29.addTo%28marker_cluster_1a07f2ab22c5428ab6b0a0e5fbd93318%29%3B%0A%20%20%20%20%20%20%20%20%0A%20%20%20%20%0A%20%20%20%20%20%20%20%20var%20popup_230585fc31904293b7a85df7e362d26f%20%3D%20L.popup%28%7B%22maxWidth%22%3A%20%22100%25%22%7D%29%3B%0A%0A%20%20%20%20%20%20%20%20%0A%20%20%20%20%20%20%20%20%20%20%20%20var%20html_698f1596ecf44f009c92c43b50385720%20%3D%20%24%28%60%3Cdiv%20id%3D%22html_698f1596ecf44f009c92c43b50385720%22%20style%3D%22width%3A%20100.0%25%3B%20height%3A%20100.0%25%3B%22%3Egov.ky%20184.25.237.161%3C/div%3E%60%29%5B0%5D%3B%0A%20%20%20%20%20%20%20%20%20%20%20%20popup_230585fc31904293b7a85df7e362d26f.setContent%28html_698f1596ecf44f009c92c43b50385720%29%3B%0A%20%20%20%20%20%20%20%20%0A%0A%20%20%20%20%20%20%20%20marker_f9de2a4d3aef4312b85c89b3b48dc3b9.bindPopup%28popup_230585fc31904293b7a85df7e362d26f%29%0A%20%20%20%20%20%20%20%20%3B%0A%0A%20%20%20%20%20%20%20%20%0A%20%20%20%20%0A%20%20%20%20%0A%20%20%20%20%20%20%20%20%20%20%20%20var%20marker_3a3337b0061146af8a98263f57a27604%20%3D%20L.marker%28%0A%20%20%20%20%20%20%20%20%20%20%20%20%20%20%20%20%5B19.2773%2C%20-81.2449%5D%2C%0A%20%20%20%20%20%20%20%20%20%20%20%20%20%20%20%20%7B%7D%0A%20%20%20%20%20%20%20%20%20%20%20%20%29.addTo%28marker_cluster_1a07f2ab22c5428ab6b0a0e5fbd93318%29%3B%0A%20%20%20%20%20%20%20%20%0A%20%20%20%20%0A%20%20%20%20%20%20%20%20var%20popup_58b8302dbce14196974f9fc343af0345%20%3D%20L.popup%28%7B%22maxWidth%22%3A%20%22100%25%22%7D%29%3B%0A%0A%20%20%20%20%20%20%20%20%0A%20%20%20%20%20%20%20%20%20%20%20%20var%20html_1c30ee8001e64aebb47a3782892089ed%20%3D%20%24%28%60%3Cdiv%20id%3D%22html_1c30ee8001e64aebb47a3782892089ed%22%20style%3D%22width%3A%20100.0%25%3B%20height%3A%20100.0%25%3B%22%3Ecandw.ky%20209.27.52.113%3C/div%3E%60%29%5B0%5D%3B%0A%20%20%20%20%20%20%20%20%20%20%20%20popup_58b8302dbce14196974f9fc343af0345.setContent%28html_1c30ee8001e64aebb47a3782892089ed%29%3B%0A%20%20%20%20%20%20%20%20%0A%0A%20%20%20%20%20%20%20%20marker_3a3337b0061146af8a98263f57a27604.bindPopup%28popup_58b8302dbce14196974f9fc343af0345%29%0A%20%20%20%20%20%20%20%20%3B%0A%0A%20%20%20%20%20%20%20%20%0A%20%20%20%20%0A%20%20%20%20%0A%20%20%20%20%20%20%20%20%20%20%20%20var%20marker_d20f0d8829014fe1860526c83748d3f2%20%3D%20L.marker%28%0A%20%20%20%20%20%20%20%20%20%20%20%20%20%20%20%20%5B39.0469%2C%20-77.4903%5D%2C%0A%20%20%20%20%20%20%20%20%20%20%20%20%20%20%20%20%7B%7D%0A%20%20%20%20%20%20%20%20%20%20%20%20%29.addTo%28marker_cluster_1a07f2ab22c5428ab6b0a0e5fbd93318%29%3B%0A%20%20%20%20%20%20%20%20%0A%20%20%20%20%0A%20%20%20%20%20%20%20%20var%20popup_3ab8fad043124c2f9d5809096917db52%20%3D%20L.popup%28%7B%22maxWidth%22%3A%20%22100%25%22%7D%29%3B%0A%0A%20%20%20%20%20%20%20%20%0A%20%20%20%20%20%20%20%20%20%20%20%20var%20html_af503495e39d4ddc8b93fd4a0e0c15ed%20%3D%20%24%28%60%3Cdiv%20id%3D%22html_af503495e39d4ddc8b93fd4a0e0c15ed%22%20style%3D%22width%3A%20100.0%25%3B%20height%3A%20100.0%25%3B%22%3Ewww.cima.ky%203.236.13.79%3C/div%3E%60%29%5B0%5D%3B%0A%20%20%20%20%20%20%20%20%20%20%20%20popup_3ab8fad043124c2f9d5809096917db52.setContent%28html_af503495e39d4ddc8b93fd4a0e0c15ed%29%3B%0A%20%20%20%20%20%20%20%20%0A%0A%20%20%20%20%20%20%20%20marker_d20f0d8829014fe1860526c83748d3f2.bindPopup%28popup_3ab8fad043124c2f9d5809096917db52%29%0A%20%20%20%20%20%20%20%20%3B%0A%0A%20%20%20%20%20%20%20%20%0A%20%20%20%20%0A%20%20%20%20%0A%20%20%20%20%20%20%20%20%20%20%20%20var%20marker_001b965206e240ac9f64fce3baa94900%20%3D%20L.marker%28%0A%20%20%20%20%20%20%20%20%20%20%20%20%20%20%20%20%5B37.751%2C%20-97.822%5D%2C%0A%20%20%20%20%20%20%20%20%20%20%20%20%20%20%20%20%7B%7D%0A%20%20%20%20%20%20%20%20%20%20%20%20%29.addTo%28marker_cluster_1a07f2ab22c5428ab6b0a0e5fbd93318%29%3B%0A%20%20%20%20%20%20%20%20%0A%20%20%20%20%0A%20%20%20%20%20%20%20%20var%20popup_b1f3eee5dacc442398e0f2278bc495e3%20%3D%20L.popup%28%7B%22maxWidth%22%3A%20%22100%25%22%7D%29%3B%0A%0A%20%20%20%20%20%20%20%20%0A%20%20%20%20%20%20%20%20%20%20%20%20var%20html_d592901d3aee4092a904107f1cca3efd%20%3D%20%24%28%60%3Cdiv%20id%3D%22html_d592901d3aee4092a904107f1cca3efd%22%20style%3D%22width%3A%20100.0%25%3B%20height%3A%20100.0%25%3B%22%3Ecampbells.com.ky%20108.175.155.101%3C/div%3E%60%29%5B0%5D%3B%0A%20%20%20%20%20%20%20%20%20%20%20%20popup_b1f3eee5dacc442398e0f2278bc495e3.setContent%28html_d592901d3aee4092a904107f1cca3efd%29%3B%0A%20%20%20%20%20%20%20%20%0A%0A%20%20%20%20%20%20%20%20marker_001b965206e240ac9f64fce3baa94900.bindPopup%28popup_b1f3eee5dacc442398e0f2278bc495e3%29%0A%20%20%20%20%20%20%20%20%3B%0A%0A%20%20%20%20%20%20%20%20%0A%20%20%20%20%0A%20%20%20%20%0A%20%20%20%20%20%20%20%20%20%20%20%20var%20marker_e1593d3f1ca04c9d82a33bc3f845780a%20%3D%20L.marker%28%0A%20%20%20%20%20%20%20%20%20%20%20%20%20%20%20%20%5B37.751%2C%20-97.822%5D%2C%0A%20%20%20%20%20%20%20%20%20%20%20%20%20%20%20%20%7B%7D%0A%20%20%20%20%20%20%20%20%20%20%20%20%29.addTo%28marker_cluster_1a07f2ab22c5428ab6b0a0e5fbd93318%29%3B%0A%20%20%20%20%20%20%20%20%0A%20%20%20%20%0A%20%20%20%20%20%20%20%20var%20popup_bdda09b8cd2f4e8984a9a6e3405c6a2b%20%3D%20L.popup%28%7B%22maxWidth%22%3A%20%22100%25%22%7D%29%3B%0A%0A%20%20%20%20%20%20%20%20%0A%20%20%20%20%20%20%20%20%20%20%20%20var%20html_f4bd430f3bd6499d847641c49a291d97%20%3D%20%24%28%60%3Cdiv%20id%3D%22html_f4bd430f3bd6499d847641c49a291d97%22%20style%3D%22width%3A%20100.0%25%3B%20height%3A%20100.0%25%3B%22%3Ewww.campbells.com.ky%20108.175.155.101%3C/div%3E%60%29%5B0%5D%3B%0A%20%20%20%20%20%20%20%20%20%20%20%20popup_bdda09b8cd2f4e8984a9a6e3405c6a2b.setContent%28html_f4bd430f3bd6499d847641c49a291d97%29%3B%0A%20%20%20%20%20%20%20%20%0A%0A%20%20%20%20%20%20%20%20marker_e1593d3f1ca04c9d82a33bc3f845780a.bindPopup%28popup_bdda09b8cd2f4e8984a9a6e3405c6a2b%29%0A%20%20%20%20%20%20%20%20%3B%0A%0A%20%20%20%20%20%20%20%20%0A%20%20%20%20%0A%20%20%20%20%0A%20%20%20%20%20%20%20%20%20%20%20%20var%20marker_fd92c630a32347888d621f257eb31bb4%20%3D%20L.marker%28%0A%20%20%20%20%20%20%20%20%20%20%20%20%20%20%20%20%5B19.2773%2C%20-81.2449%5D%2C%0A%20%20%20%20%20%20%20%20%20%20%20%20%20%20%20%20%7B%7D%0A%20%20%20%20%20%20%20%20%20%20%20%20%29.addTo%28marker_cluster_1a07f2ab22c5428ab6b0a0e5fbd93318%29%3B%0A%20%20%20%20%20%20%20%20%0A%20%20%20%20%0A%20%20%20%20%20%20%20%20var%20popup_5536368e71ae4d10b7f0ac8dd03e0627%20%3D%20L.popup%28%7B%22maxWidth%22%3A%20%22100%25%22%7D%29%3B%0A%0A%20%20%20%20%20%20%20%20%0A%20%20%20%20%20%20%20%20%20%20%20%20var%20html_46d4b612547e414fa7f9612a7cd613ec%20%3D%20%24%28%60%3Cdiv%20id%3D%22html_46d4b612547e414fa7f9612a7cd613ec%22%20style%3D%22width%3A%20100.0%25%3B%20height%3A%20100.0%25%3B%22%3Ens2.candw.ky%20209.27.52.56%3C/div%3E%60%29%5B0%5D%3B%0A%20%20%20%20%20%20%20%20%20%20%20%20popup_5536368e71ae4d10b7f0ac8dd03e0627.setContent%28html_46d4b612547e414fa7f9612a7cd613ec%29%3B%0A%20%20%20%20%20%20%20%20%0A%0A%20%20%20%20%20%20%20%20marker_fd92c630a32347888d621f257eb31bb4.bindPopup%28popup_5536368e71ae4d10b7f0ac8dd03e0627%29%0A%20%20%20%20%20%20%20%20%3B%0A%0A%20%20%20%20%20%20%20%20%0A%20%20%20%20%0A%20%20%20%20%0A%20%20%20%20%20%20%20%20%20%20%20%20var%20marker_372b9822cfec40539e3c1fc391b058bf%20%3D%20L.marker%28%0A%20%20%20%20%20%20%20%20%20%20%20%20%20%20%20%20%5B19.2773%2C%20-81.2449%5D%2C%0A%20%20%20%20%20%20%20%20%20%20%20%20%20%20%20%20%7B%7D%0A%20%20%20%20%20%20%20%20%20%20%20%20%29.addTo%28marker_cluster_1a07f2ab22c5428ab6b0a0e5fbd93318%29%3B%0A%20%20%20%20%20%20%20%20%0A%20%20%20%20%0A%20%20%20%20%20%20%20%20var%20popup_9c9760671096415db24c3f733750027b%20%3D%20L.popup%28%7B%22maxWidth%22%3A%20%22100%25%22%7D%29%3B%0A%0A%20%20%20%20%20%20%20%20%0A%20%20%20%20%20%20%20%20%20%20%20%20var%20html_547331a9efab42ce8954b14bf17e0a2c%20%3D%20%24%28%60%3Cdiv%20id%3D%22html_547331a9efab42ce8954b14bf17e0a2c%22%20style%3D%22width%3A%20100.0%25%3B%20height%3A%20100.0%25%3B%22%3Ens.candw.ky%20209.27.52.51%3C/div%3E%60%29%5B0%5D%3B%0A%20%20%20%20%20%20%20%20%20%20%20%20popup_9c9760671096415db24c3f733750027b.setContent%28html_547331a9efab42ce8954b14bf17e0a2c%29%3B%0A%20%20%20%20%20%20%20%20%0A%0A%20%20%20%20%20%20%20%20marker_372b9822cfec40539e3c1fc391b058bf.bindPopup%28popup_9c9760671096415db24c3f733750027b%29%0A%20%20%20%20%20%20%20%20%3B%0A%0A%20%20%20%20%20%20%20%20%0A%20%20%20%20%0A%3C/script%3E onload=\"this.contentDocument.open();this.contentDocument.write(    decodeURIComponent(this.getAttribute('data-html')));this.contentDocument.close();\" allowfullscreen webkitallowfullscreen mozallowfullscreen></iframe></div></div>"
            ],
            "text/plain": [
              "<folium.folium.Map at 0x1289798e0>"
            ]
          },
          "execution_count": 25,
          "metadata": {},
          "output_type": "execute_result"
        }
      ],
      "source": [
        "map = folium.Map(location=[30, -50], tiles='cartodb positron', zoom_start=4)\n",
        "\n",
        "mcluster = MarkerCluster().add_to(map)\n",
        "\n",
        "for index, row in topky.iterrows():\n",
        "    folium.Marker(location=[row['Latitude'],row['Longitude']], popup=(row.DNS+\"\\n\"+row.ip_address)).add_to(mcluster)\n",
        "\n",
        "map"
      ]
    }
  ],
  "metadata": {
    "colab": {
      "collapsed_sections": [],
      "name": "topuk.ipynb",
      "provenance": []
    },
    "interpreter": {
      "hash": "aee8b7b246df8f9039afb4144a1f6fd8d2ca17a180786b69acc140d282b71a49"
    },
    "kernelspec": {
      "display_name": "Python 3.9.7 64-bit",
      "name": "python3"
    },
    "language_info": {
      "codemirror_mode": {
        "name": "ipython",
        "version": 3
      },
      "file_extension": ".py",
      "mimetype": "text/x-python",
      "name": "python",
      "nbconvert_exporter": "python",
      "pygments_lexer": "ipython3",
      "version": "3.9.12"
    }
  },
  "nbformat": 4,
  "nbformat_minor": 0
}
